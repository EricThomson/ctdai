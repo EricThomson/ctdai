{
 "cells": [
  {
   "cell_type": "markdown",
   "id": "e35b0030-e2bb-4117-9877-cf46d1e1b942",
   "metadata": {},
   "source": [
    "# RAG\n",
    "INtegrating databases and organization-specific documents into your LLM. Compare with CAG (context-augmented generation). \n",
    "\n",
    "TODO: fill in this stub\n",
    "\n",
    "Do this in a really nice and simple way follow this ultra stripped down tutorial, we could adapt this into a lesson:\n",
    "https://huggingface.co/learn/cookbook/rag_with_hf_and_milvus \n",
    "\n",
    "Alternatively could do this much more involved tutorial but I think it is wayy too much it seems heavy duty and too much for our purposes:\n",
    "https://www.youtube.com/watch?v=T-D1OfcDW1M"
   ]
  },
  {
   "cell_type": "code",
   "execution_count": null,
   "id": "6f0dc1c0-ea03-463c-9b44-d09af476e563",
   "metadata": {},
   "outputs": [],
   "source": []
  }
 ],
 "metadata": {
  "kernelspec": {
   "display_name": "Python 3 (ipykernel)",
   "language": "python",
   "name": "python3"
  },
  "language_info": {
   "codemirror_mode": {
    "name": "ipython",
    "version": 3
   },
   "file_extension": ".py",
   "mimetype": "text/x-python",
   "name": "python",
   "nbconvert_exporter": "python",
   "pygments_lexer": "ipython3",
   "version": "3.12.10"
  }
 },
 "nbformat": 4,
 "nbformat_minor": 5
}
