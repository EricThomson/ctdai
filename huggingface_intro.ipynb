{
 "cells": [
  {
   "cell_type": "markdown",
   "id": "a0e3a32d-e3bd-4bef-996a-2544a9ca9fd8",
   "metadata": {},
   "source": [
    "# Hugging face\n",
    "What langchain does for building LLM applications, Hugging Face does for providing models. You don't have to pay to use models. \n",
    "\n",
    "Here we go over the basics of hugging face, showing how to use a basic LLM without having to pay. (blah blah blah). \n",
    "\n",
    "https://www.youtube.com/watch?v=pgl85TzbALg"
   ]
  },
  {
   "cell_type": "code",
   "execution_count": null,
   "id": "73183c05-be8b-40d6-bca6-6806165251c7",
   "metadata": {},
   "outputs": [],
   "source": []
  }
 ],
 "metadata": {
  "kernelspec": {
   "display_name": "Python 3 (ipykernel)",
   "language": "python",
   "name": "python3"
  },
  "language_info": {
   "codemirror_mode": {
    "name": "ipython",
    "version": 3
   },
   "file_extension": ".py",
   "mimetype": "text/x-python",
   "name": "python",
   "nbconvert_exporter": "python",
   "pygments_lexer": "ipython3",
   "version": "3.12.10"
  }
 },
 "nbformat": 4,
 "nbformat_minor": 5
}
