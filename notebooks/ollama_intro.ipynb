{
 "cells": [
  {
   "cell_type": "markdown",
   "id": "965586c2-c67b-49e7-bd23-d5fdc4083892",
   "metadata": {},
   "source": [
    "# Ollama\n",
    "Running models locally with ollama.\n",
    "\n",
    "How to install ollama and run the ollama server locally, and mimic the OpenAI api locally to play around.\n",
    "\n",
    "This is a really useful tool, partly for testing new models against tried-and-true models. And for building out the logic of an application to be sure things work as intended without spending $$$. \n",
    "\n",
    "TODO: find good intro or just build one on how to do this. Should be fairly short."
   ]
  },
  {
   "cell_type": "code",
   "execution_count": null,
   "id": "2cab56cf-ea8b-48df-ae65-4cf501039a03",
   "metadata": {},
   "outputs": [],
   "source": []
  }
 ],
 "metadata": {
  "kernelspec": {
   "display_name": "Python 3 (ipykernel)",
   "language": "python",
   "name": "python3"
  },
  "language_info": {
   "codemirror_mode": {
    "name": "ipython",
    "version": 3
   },
   "file_extension": ".py",
   "mimetype": "text/x-python",
   "name": "python",
   "nbconvert_exporter": "python",
   "pygments_lexer": "ipython3",
   "version": "3.12.10"
  }
 },
 "nbformat": 4,
 "nbformat_minor": 5
}
