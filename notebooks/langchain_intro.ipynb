{
 "cells": [
  {
   "cell_type": "markdown",
   "id": "e89c8f42-5738-4b4f-9b35-209fe76a54ed",
   "metadata": {},
   "source": [
    "# Langchain intro\n",
    "Langchain is a powerful open-source toolkit for building LLM applications and pipelines. It wraps models from proprietary sources like OpenAI but also works with open source models. \n",
    "\n",
    "TODO: fill in content this is a stub.\n",
    "\n",
    "Langchain is a huge ecosystem. Goal is to just provide some minimal basics. Some places to start:\n",
    "\n",
    "- https://github.com/aurelio-labs/langchain-course \n",
    "- https://learn.deeplearning.ai/courses/langchain \n",
    "- https://www.youtube.com/watch?v=Cyv-dgv80kE&list=PLIUOU7oqGTLjxUvwh8pIulPfPNHGNlz3- "
   ]
  },
  {
   "cell_type": "code",
   "execution_count": null,
   "id": "81489ab7-a0f1-4262-8f23-32428fb39cba",
   "metadata": {},
   "outputs": [],
   "source": []
  }
 ],
 "metadata": {
  "kernelspec": {
   "display_name": "Python 3 (ipykernel)",
   "language": "python",
   "name": "python3"
  },
  "language_info": {
   "codemirror_mode": {
    "name": "ipython",
    "version": 3
   },
   "file_extension": ".py",
   "mimetype": "text/x-python",
   "name": "python",
   "nbconvert_exporter": "python",
   "pygments_lexer": "ipython3",
   "version": "3.12.10"
  }
 },
 "nbformat": 4,
 "nbformat_minor": 5
}
