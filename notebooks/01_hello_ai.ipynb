{
 "cells": [
  {
   "cell_type": "markdown",
   "id": "3d337974-0763-4394-8321-f96af6e84fe6",
   "metadata": {},
   "source": [
    "# Lesson 1: Hello AI\n",
    "This Jupyter notebook the first lesson of a learning track for learning the basics of the OpenAI API with Code the Dream.\n",
    "\n",
    "Main objective: set up the OpenAI API, securely store the API key, make sure things are working by generating a response using `gpt-4o-mini`. "
   ]
  },
  {
   "cell_type": "markdown",
   "id": "abab39b0",
   "metadata": {},
   "source": [
    "To keep in mind:    \n",
    "- **API Key Security**: Using os.getenv() prevents exposure exposure in code. Never commit API key to version control or hardcode API keys. See [OpenAI API Key Best Practices](https://help.openai.com/en/articles/5112595-best-practices-for-api-key-safety).\n",
    "- **Cost Management**: Use `gpt-4o-mini` and `text-embedding-3-small` for cost efficiency. Monitor `response.usage` to track token costs.\n",
    "- **Error Handling**: Use try-except blocks to handle API errors (e.g., rate limits, invalid keys).\n",
    "- **Prompt Design**: The prompt is specific (150 words max, key features) to ensure relevant output. Learn more at [OpenAI Prompt Engineering](https://platform.openai.com/docs/guides/prompt-engineering).\n",
    "- **Documentation**: Refer to OpenAI’s official docs for most up-to-date references.\n",
    "  - [Quickstart](https://platform.openai.com/docs/quickstart)\n",
    "  - [API Reference](https://platform.openai.com/docs/api-reference)\n",
    "\n",
    "\n",
    "\n",
    "\n",
    "\n"
   ]
  },
  {
   "cell_type": "markdown",
   "id": "703960ae",
   "metadata": {},
   "source": [
    "## 1: Setup and initial testing\n",
    "\n",
    "**Objective**: Set up the OpenAI API, make sure your API key is securely stored, and generate a response using `gpt-4o-mini`.\n",
    "\n",
    "Note today we aren't getting into any *details* of the API, we are focusing on secure setup and getting it running without errors. \n",
    "\n",
    "TODO: \n",
    "- Add details about API keys and how to set env variable, how to handle them properly (e.g., NEVER put them in code, never commit to VCS)\n",
    "- Discuss dotenv to handle API key in .env file and contrast with setting at shell-level using bash (which is much safer)"
   ]
  },
  {
   "cell_type": "code",
   "execution_count": 1,
   "id": "d93a08aa-b25f-406f-abc8-7cb5af9e89f0",
   "metadata": {},
   "outputs": [],
   "source": [
    "from openai import OpenAI\n",
    "import os\n",
    "from IPython.display import Markdown, display, YouTubeVideo"
   ]
  },
  {
   "cell_type": "code",
   "execution_count": 2,
   "id": "10ed5f37-2d0c-4e43-bc4d-96b609ce04c5",
   "metadata": {},
   "outputs": [],
   "source": [
    "def printmd(text):\n",
    "    \"\"\"\n",
    "    print md in code cells\n",
    "    \"\"\"\n",
    "    display(Markdown(text))"
   ]
  },
  {
   "cell_type": "markdown",
   "id": "69a7f73c-9857-4fad-9892-a0998184950b",
   "metadata": {},
   "source": [
    "Initialize OpenAI client with API key that has been set as environment variable."
   ]
  },
  {
   "cell_type": "code",
   "execution_count": 3,
   "id": "1e17a57e-c9e8-4195-8e11-82371724333d",
   "metadata": {},
   "outputs": [],
   "source": [
    "try:\n",
    "    client = OpenAI(api_key=os.getenv(\"OPENAI_API_KEY\"))\n",
    "except Exception as e:\n",
    "    print(f\"Error initializing OpenAI client: {e}\")\n",
    "    raise"
   ]
  },
  {
   "cell_type": "markdown",
   "id": "50f697b1-3ac7-4966-8c01-89bdc19b43e9",
   "metadata": {},
   "source": [
    "Set prompt discussing bias in AI: "
   ]
  },
  {
   "cell_type": "code",
   "execution_count": 4,
   "id": "7b17c973-d507-4682-a029-63d643ff6c7e",
   "metadata": {},
   "outputs": [
    {
     "name": "stdout",
     "output_type": "stream",
     "text": [
      "You are a software engineer concerned with social equality and justice. Please tell us the \n",
      "top three ways that AI models that AI models display bias in their training data. Also list two ways to \n",
      "defend against such biases when writing prompts for LLMs.\n"
     ]
    }
   ],
   "source": [
    "prompt = \"\"\"You are a software engineer concerned with social equality and justice. Please tell us the \n",
    "top three ways that AI models that AI models display bias in their training data. Also list two ways to \n",
    "defend against such biases when writing prompts for LLMs.\"\"\"\n",
    "print(prompt)"
   ]
  },
  {
   "cell_type": "markdown",
   "id": "fe1ae9e5-ae8f-4497-844f-c335816bf0e0",
   "metadata": {},
   "source": [
    "Make the API call: note we will learn more about this in the second notebook we are just making sure this works without throwing an error:"
   ]
  },
  {
   "cell_type": "code",
   "execution_count": 5,
   "id": "22886519",
   "metadata": {},
   "outputs": [],
   "source": [
    "try:\n",
    "    response = client.chat.completions.create(\n",
    "        model=\"gpt-4o-mini\",\n",
    "        messages=[\n",
    "            {\"role\": \"user\", \"content\": prompt}\n",
    "        ],\n",
    "        max_tokens=500,\n",
    "        temperature=0.7  # Balances creativity and consistency\n",
    "    )\n",
    "except Exception as e:\n",
    "    print(f\"Error calling OpenAI API: {e}\")"
   ]
  },
  {
   "cell_type": "markdown",
   "id": "518d1a0e-4660-412f-829b-c6bbabdde404",
   "metadata": {},
   "source": [
    "Print the reply"
   ]
  },
  {
   "cell_type": "code",
   "execution_count": 6,
   "id": "2bef2b33-232b-4e4e-8fc9-a20582088fdf",
   "metadata": {},
   "outputs": [
    {
     "data": {
      "text/markdown": [
       "**Generated response:**"
      ],
      "text/plain": [
       "<IPython.core.display.Markdown object>"
      ]
     },
     "metadata": {},
     "output_type": "display_data"
    },
    {
     "name": "stdout",
     "output_type": "stream",
     "text": [
      "AI models, including large language models (LLMs), can exhibit bias in various ways due to the nature of their training data. Here are the top three ways that bias can manifest:\n",
      "\n",
      "### 1. **Representation Bias**\n",
      "   - **Description**: If the training data lacks diversity or is skewed towards certain demographics, the AI model may not accurately represent the perspectives and experiences of underrepresented groups. For example, if a model is trained predominantly on English-language data, it may perform poorly on inputs from other languages or cultural contexts.\n",
      "   - **Impact**: This can lead to outputs that reinforce stereotypes or neglect important cultural nuances.\n",
      "\n",
      "### 2. **Label Bias**\n",
      "   - **Description**: When training data is labeled based on subjective human judgments, it can inherit the biases of those annotators. For example, if sentiment analysis data is labeled with a bias towards positive or negative sentiments based on cultural or societal norms, the model will learn to replicate those biases.\n",
      "   - **Impact**: This can result in biased predictions or classifications that do not reflect an unbiased understanding of the input data.\n",
      "\n",
      "### 3. **Historical Bias**\n",
      "   - **Description**: AI models trained on historical data may inadvertently learn and perpetuate biases present in that data. For instance, if a model is trained on text that reflects historical inequalities—such as gender, race, or socioeconomic status—it may generate outputs that reflect those outdated or harmful perspectives.\n",
      "   - **Impact**: This can lead to discriminatory practices or reinforce existing inequalities in areas like hiring, policing, and healthcare.\n",
      "\n",
      "### Defending Against Biases When Writing Prompts for LLMs\n",
      "\n",
      "1. **Diverse and Inclusive Prompting**\n",
      "   - **Strategy**: When creating prompts, include a diverse range of perspectives and contexts. This means explicitly incorporating different cultural, gender, and socioeconomic viewpoints to ensure that the model considers a broader array of experiences and opinions.\n",
      "   - **Example**: Instead of asking, \"What are the benefits of working from home?\" you could ask, \"What are the benefits of working from home for different demographic groups, including parents, caregivers, and individuals from various socioeconomic backgrounds?\"\n",
      "\n",
      "2. **Explicit Bias Awareness**\n",
      "   - **Strategy**: Be explicit in your prompts about the need to avoid bias and encourage the model to consider fairness and equity. You can include instructions that prompt the model to think critically about bias and to provide balanced perspectives.\n",
      "   - **Example**: You might phrase a prompt\n"
     ]
    }
   ],
   "source": [
    "printmd(\"**Generated response:**\")\n",
    "print(response.choices[0].message.content)"
   ]
  },
  {
   "cell_type": "markdown",
   "id": "e4c497d1-91ef-4957-a39c-841f4be2c218",
   "metadata": {},
   "source": [
    "Print token usage for cost monitoring\n",
    "\n",
    "TODO: convert to actual cost by getting cost/token"
   ]
  },
  {
   "cell_type": "code",
   "execution_count": 7,
   "id": "92390496-e252-412e-a224-c7c6f1c65405",
   "metadata": {},
   "outputs": [
    {
     "name": "stdout",
     "output_type": "stream",
     "text": [
      "\n",
      "Token Usage: 559 tokens\n"
     ]
    }
   ],
   "source": [
    "print(f\"\\nToken Usage: {response.usage.total_tokens} tokens\")"
   ]
  },
  {
   "cell_type": "markdown",
   "id": "b926ab4d",
   "metadata": {},
   "source": [
    "Hopefully this whets your appetite. With minimal code, we can leverage the power of AI and start to incorporate it into our applications. We could ask it about how to do analysis, etc. "
   ]
  },
  {
   "cell_type": "markdown",
   "id": "8e9e0099",
   "metadata": {},
   "source": []
  },
  {
   "cell_type": "code",
   "execution_count": 8,
   "id": "b639ba38-5a93-439f-b0ef-68dd143c93ff",
   "metadata": {},
   "outputs": [],
   "source": []
  },
  {
   "cell_type": "code",
   "execution_count": 9,
   "id": "72c79ad3-22b0-4f6f-9a26-5b8cf282f9ed",
   "metadata": {},
   "outputs": [
    {
     "data": {
      "image/jpeg": "[encoded data removed]",
      "text/html": [
       "\n",
       "        <iframe\n",
       "            width=\"350\"\n",
       "            height=\"300\"\n",
       "            src=\"https://www.youtube.com/embed/FJtFZwbvkI4\"\n",
       "            frameborder=\"0\"\n",
       "            allowfullscreen\n",
       "            \n",
       "        ></iframe>\n",
       "        "
      ],
      "text/plain": [
       "<IPython.lib.display.YouTubeVideo at 0x1d153d1fc50>"
      ]
     },
     "execution_count": 9,
     "metadata": {},
     "output_type": "execute_result"
    }
   ],
   "source": []
  },
  {
   "cell_type": "code",
   "execution_count": 10,
   "id": "d620d1cb-3069-4a5f-8922-08611f1752dc",
   "metadata": {},
   "outputs": [],
   "source": [
    "# Initialize OpenAI client\n",
    "try:\n",
    "    client = OpenAI(api_key=os.getenv(\"OPENAI_API_KEY\"))\n",
    "except Exception as e:\n",
    "    print(f\"Error initializing OpenAI client: {e}\")\n",
    "    raise"
   ]
  },
  {
   "cell_type": "markdown",
   "id": "3eaf8162-5cc9-4c99-91eb-0b9674d59f67",
   "metadata": {},
   "source": [
    "Movie summaries that we will use to detect semantic similaties. "
   ]
  },
  {
   "cell_type": "code",
   "execution_count": 11,
   "id": "94c945ff-daf2-49ee-b559-345d381f0a90",
   "metadata": {},
   "outputs": [],
   "source": [
    "movies = [\n",
    "    # Marvel Superhero Movies\n",
    "    {\n",
    "        \"title\": \"Iron Man (2008)\",\n",
    "        \"summary\": \"Billionaire genius Tony Stark builds a high-tech suit to escape captivity and becomes Iron Man, fighting global threats with his wit and advanced technology.\"\n",
    "    },\n",
    "    {\n",
    "        \"title\": \"The Avengers (2012)\",\n",
    "        \"summary\": \"Earth’s mightiest heroes, including Iron Man, Captain America, Thor, and Hulk, unite to stop Loki and his alien army from conquering the planet.\"\n",
    "    },\n",
    "    {\n",
    "        \"title\": \"Black Panther (2018)\",\n",
    "        \"summary\": \"T’Challa, king of Wakanda, embraces his role as Black Panther to protect his nation and the world from a powerful enemy threatening their vibranium resources.\"\n",
    "    },\n",
    "    {\n",
    "        \"title\": \"Spider-Man: No Way Home (2021)\",\n",
    "        \"summary\": \"Peter Parker, unmasked as Spider-Man, teams up with alternate-universe heroes to battle villains from across the multiverse after a spell goes wrong.\"\n",
    "    },\n",
    "    {\n",
    "        \"title\": \"Captain Marvel (2019)\",\n",
    "        \"summary\": \"Carol Danvers unlocks her cosmic powers as Captain Marvel, joining the fight against the Kree-Skrull war while uncovering her lost memories on Earth.\"\n",
    "    },\n",
    "    # Christmas-Themed Movies\n",
    "    {\n",
    "        \"title\": \"Home Alone (1990)\",\n",
    "        \"summary\": \"Young Kevin is accidentally left behind during Christmas vacation and must defend his home from bumbling burglars with clever traps and holiday spirit.\"\n",
    "    },\n",
    "    {\n",
    "        \"title\": \"Elf (2003)\",\n",
    "        \"summary\": \"Buddy, a human raised by elves, journeys to New York City to find his real father, spreading Christmas cheer in a world that’s lost its festive spark.\"\n",
    "    },\n",
    "    {\n",
    "        \"title\": \"The Polar Express (2004)\",\n",
    "        \"summary\": \"A young boy boards a magical train to the North Pole, embarking on a heartwarming adventure that tests his belief in the magic of Christmas.\"\n",
    "    },\n",
    "    {\n",
    "        \"title\": \"A Christmas Carol (2009)\",\n",
    "        \"summary\": \"Ebenezer Scrooge, a miserly old man, is visited by three ghosts on Christmas Eve, learning the value of kindness and the true meaning of the holiday.\"\n",
    "    },\n",
    "    {\n",
    "        \"title\": \"Love Actually (2003)\",\n",
    "        \"summary\": \"Interwoven stories of love, loss, and connection unfold in London during the Christmas season, celebrating the messy beauty of human relationships.\"\n",
    "    },\n",
    "    # Romantic Comedies\n",
    "    {\n",
    "        \"title\": \"When Harry Met Sally... (1989)\",\n",
    "        \"summary\": \"Harry and Sally’s evolving friendship over years sparks debates about love and friendship, culminating in a heartfelt realization during a New Year’s Eve confession.\"\n",
    "    },\n",
    "    {\n",
    "        \"title\": \"The Proposal (2009)\",\n",
    "        \"summary\": \"A high-powered executive forces her assistant into a fake engagement to avoid deportation, leading to unexpected romance during a chaotic family weekend in Alaska.\"\n",
    "    },\n",
    "    {\n",
    "        \"title\": \"Crazy Rich Asians (2018)\",\n",
    "        \"summary\": \"Rachel Chu accompanies her boyfriend to Singapore, facing his ultra-wealthy family’s disapproval in a whirlwind of opulence, tradition, and newfound love.\"\n",
    "    },\n",
    "    {\n",
    "        \"title\": \"10 Things I Hate About You (1999)\",\n",
    "        \"summary\": \"A rebellious teen, Kat, is wooed by bad-boy Patrick in a modern Shakespearean tale of high school romance, deception, and heartfelt connection.\"\n",
    "    },\n",
    "    {\n",
    "        \"title\": \"Notting Hill (1999)\",\n",
    "        \"summary\": \"A humble London bookseller falls for a famous American actress, navigating fame, cultural clashes, and personal insecurities to pursue an unlikely love story.\"\n",
    "    }\n",
    "]"
   ]
  },
  {
   "cell_type": "code",
   "execution_count": 12,
   "id": "2f063b4d-662f-4781-a6e5-9f3cb6b4fbac",
   "metadata": {},
   "outputs": [
    {
     "name": "stdout",
     "output_type": "stream",
     "text": [
      "['Billionaire genius Tony Stark builds a high-tech suit to escape captivity '\n",
      " 'and becomes Iron Man, fighting global threats with his wit and advanced '\n",
      " 'technology.',\n",
      " 'Earth’s mightiest heroes, including Iron Man, Captain America, Thor, and '\n",
      " 'Hulk, unite to stop Loki and his alien army from conquering the planet.',\n",
      " 'T’Challa, king of Wakanda, embraces his role as Black Panther to protect his '\n",
      " 'nation and the world from a powerful enemy threatening their vibranium '\n",
      " 'resources.',\n",
      " 'Peter Parker, unmasked as Spider-Man, teams up with alternate-universe '\n",
      " 'heroes to battle villains from across the multiverse after a spell goes '\n",
      " 'wrong.',\n",
      " 'Carol Danvers unlocks her cosmic powers as Captain Marvel, joining the fight '\n",
      " 'against the Kree-Skrull war while uncovering her lost memories on Earth.',\n",
      " 'Young Kevin is accidentally left behind during Christmas vacation and must '\n",
      " 'defend his home from bumbling burglars with clever traps and holiday spirit.',\n",
      " 'Buddy, a human raised by elves, journeys to New York City to find his real '\n",
      " 'father, spreading Christmas cheer in a world that’s lost its festive spark.',\n",
      " 'A young boy boards a magical train to the North Pole, embarking on a '\n",
      " 'heartwarming adventure that tests his belief in the magic of Christmas.',\n",
      " 'Ebenezer Scrooge, a miserly old man, is visited by three ghosts on Christmas '\n",
      " 'Eve, learning the value of kindness and the true meaning of the holiday.',\n",
      " 'Interwoven stories of love, loss, and connection unfold in London during the '\n",
      " 'Christmas season, celebrating the messy beauty of human relationships.',\n",
      " 'Harry and Sally’s evolving friendship over years sparks debates about love '\n",
      " 'and friendship, culminating in a heartfelt realization during a New Year’s '\n",
      " 'Eve confession.',\n",
      " 'A high-powered executive forces her assistant into a fake engagement to '\n",
      " 'avoid deportation, leading to unexpected romance during a chaotic family '\n",
      " 'weekend in Alaska.',\n",
      " 'Rachel Chu accompanies her boyfriend to Singapore, facing his ultra-wealthy '\n",
      " 'family’s disapproval in a whirlwind of opulence, tradition, and newfound '\n",
      " 'love.',\n",
      " 'A rebellious teen, Kat, is wooed by bad-boy Patrick in a modern '\n",
      " 'Shakespearean tale of high school romance, deception, and heartfelt '\n",
      " 'connection.',\n",
      " 'A humble London bookseller falls for a famous American actress, navigating '\n",
      " 'fame, cultural clashes, and personal insecurities to pursue an unlikely love '\n",
      " 'story.']\n"
     ]
    }
   ],
   "source": [
    "movie_summaries = [movie['summary'] for movie in movies]\n",
    "movie_titles = [movie['title'] for movie in movies]\n",
    "pprint(movie_summaries)"
   ]
  },
  {
   "cell_type": "markdown",
   "id": "687c3c79-412f-40fc-b1a9-e1b4654e928d",
   "metadata": {},
   "source": [
    "Generate embeddings for the reviews\n",
    "\n",
    "The `text-embedding-3-small` model converts text into numerical vectors and captures the \"meaning\" of the input text (in this case the movie reviews). This can be extremely useful for sentiment analysis or clustering in analytics pipelines.\n",
    "\n",
    "TODO: add more discussion (3blue1brown video above captures this; this view has a deep history and is the basis for self-attention)."
   ]
  },
  {
   "cell_type": "code",
   "execution_count": 13,
   "id": "76acb3c3-c18e-4423-83a2-b71cab31408f",
   "metadata": {},
   "outputs": [],
   "source": [
    "try:\n",
    "    embeddings = []\n",
    "    for summary in movie_summaries:\n",
    "        response = client.embeddings.create(\n",
    "            model=\"text-embedding-3-small\",\n",
    "            input=summary\n",
    "        )\n",
    "        embeddings.append(response.data[0].embedding)\n",
    "    embeddings = np.array(embeddings)\n",
    "except Exception as e:\n",
    "    print(f\"Error generating embeddings: {e}\")\n",
    "    raise"
   ]
  },
  {
   "cell_type": "markdown",
   "id": "657b3192-05e8-44fe-8569-938982c6811a",
   "metadata": {},
   "source": [
    "Get cosine similarity between reviews.\n",
    "\n",
    "Cosine Similarity measures similarity between reviews (1 = identical, 0 = unrelated). It can help identify similar content (e.g., for recommendation systems : if you like this movie, you might like that movie).\n",
    "\n",
    "Following cell is incomprehensible, need to improve. \n",
    "\n",
    "TODO: use seaborn to visualize as heatmap, or maybe just cut?"
   ]
  },
  {
   "cell_type": "code",
   "execution_count": 14,
   "id": "9f0b0e2e-17e7-41a5-964a-c151c840488c",
   "metadata": {},
   "outputs": [
    {
     "data": {
      "text/markdown": [
       "**Cosine Similarity Matrix:**"
      ],
      "text/plain": [
       "<IPython.core.display.Markdown object>"
      ]
     },
     "metadata": {},
     "output_type": "display_data"
    },
    {
     "name": "stdout",
     "output_type": "stream",
     "text": [
      "array([[1.        , 0.44638748, 0.35987185, 0.41178667, 0.31059084,\n",
      "        0.22011265, 0.19328305, 0.12573146, 0.13143264, 0.04527634,\n",
      "        0.12584849, 0.17852108, 0.17512584, 0.21035201, 0.16859286],\n",
      "       [0.44638748, 1.        , 0.4029404 , 0.45721963, 0.40754198,\n",
      "        0.19718652, 0.2336915 , 0.17151516, 0.164055  , 0.10166716,\n",
      "        0.11117503, 0.14923686, 0.11043629, 0.11242099, 0.11820223],\n",
      "       [0.35987185, 0.4029404 , 1.        , 0.33928751, 0.32624654,\n",
      "        0.15764395, 0.16259981, 0.13170946, 0.08875937, 0.09458414,\n",
      "        0.04942586, 0.12633012, 0.15928384, 0.16117361, 0.09758416],\n",
      "       [0.41178667, 0.45721963, 0.33928751, 1.        , 0.41819573,\n",
      "        0.24223534, 0.28904873, 0.1769743 , 0.16685875, 0.15327498,\n",
      "        0.2077566 , 0.20939409, 0.17345976, 0.23766342, 0.21863238],\n",
      "       [0.31059084, 0.40754198, 0.32624654, 0.41819573, 1.        ,\n",
      "        0.22879443, 0.16595081, 0.14302146, 0.09773057, 0.15119973,\n",
      "        0.13582243, 0.2027124 , 0.14648104, 0.14217729, 0.16215046],\n",
      "       [0.22011265, 0.19718652, 0.15764395, 0.24223534, 0.22879443,\n",
      "        1.        , 0.44583203, 0.42415852, 0.38035601, 0.30305206,\n",
      "        0.1934369 , 0.29494989, 0.17023198, 0.26512324, 0.17893355],\n",
      "       [0.19328305, 0.2336915 , 0.16259981, 0.28904873, 0.16595081,\n",
      "        0.44583203, 1.        , 0.56014907, 0.4185424 , 0.47448225,\n",
      "        0.36413803, 0.34170564, 0.31359252, 0.24045222, 0.36264258],\n",
      "       [0.12573146, 0.17151516, 0.13170946, 0.1769743 , 0.14302146,\n",
      "        0.42415852, 0.56014907, 1.        , 0.36100021, 0.37421137,\n",
      "        0.26801626, 0.2742041 , 0.21528106, 0.2352049 , 0.23739744],\n",
      "       [0.13143264, 0.164055  , 0.08875937, 0.16685875, 0.09773057,\n",
      "        0.38035601, 0.4185424 , 0.36100021, 1.        , 0.34547322,\n",
      "        0.22157615, 0.13207646, 0.1709796 , 0.14572889, 0.17793449],\n",
      "       [0.04527634, 0.10166716, 0.09458414, 0.15327498, 0.15119973,\n",
      "        0.30305206, 0.47448225, 0.37421137, 0.34547322, 1.        ,\n",
      "        0.39417692, 0.32423059, 0.33650221, 0.29241359, 0.50935525],\n",
      "       [0.12584849, 0.11117503, 0.04942586, 0.2077566 , 0.13582243,\n",
      "        0.1934369 , 0.36413803, 0.26801626, 0.22157615, 0.39417692,\n",
      "        1.        , 0.27436726, 0.36773699, 0.31761777, 0.38241567],\n",
      "       [0.17852108, 0.14923686, 0.12633012, 0.20939409, 0.2027124 ,\n",
      "        0.29494989, 0.34170564, 0.2742041 , 0.13207646, 0.32423059,\n",
      "        0.27436726, 1.        , 0.45306406, 0.31475522, 0.42107493],\n",
      "       [0.17512584, 0.11043629, 0.15928384, 0.17345976, 0.14648104,\n",
      "        0.17023198, 0.31359252, 0.21528106, 0.1709796 , 0.33650221,\n",
      "        0.36773699, 0.45306406, 1.        , 0.29528663, 0.4035972 ],\n",
      "       [0.21035201, 0.11242099, 0.16117361, 0.23766342, 0.14217729,\n",
      "        0.26512324, 0.24045222, 0.2352049 , 0.14572889, 0.29241359,\n",
      "        0.31761777, 0.31475522, 0.29528663, 1.        , 0.39958028],\n",
      "       [0.16859286, 0.11820223, 0.09758416, 0.21863238, 0.16215046,\n",
      "        0.17893355, 0.36264258, 0.23739744, 0.17793449, 0.50935525,\n",
      "        0.38241567, 0.42107493, 0.4035972 , 0.39958028, 1.        ]])\n"
     ]
    }
   ],
   "source": [
    "similarity_matrix = cosine_similarity(embeddings)\n",
    "printmd(\"**Cosine Similarity Matrix:**\")\n",
    "pprint(similarity_matrix)"
   ]
  },
  {
   "cell_type": "code",
   "execution_count": 15,
   "id": "4a1e6f74-22d7-458f-bbff-6469746dae21",
   "metadata": {},
   "outputs": [
    {
     "data": {
      "text/plain": [
       "(15, 1536)"
      ]
     },
     "execution_count": 15,
     "metadata": {},
     "output_type": "execute_result"
    }
   ],
   "source": [
    "embeddings.shape"
   ]
  },
  {
   "cell_type": "markdown",
   "id": "4328341e-4638-45e2-8079-f6e2be381d40",
   "metadata": {},
   "source": [
    "Examine embeddings in 2d using PCA\n",
    "\n",
    "PCA reduces high-dimensional embeddings (1500-dimensions) to 2D for intuitive plots, making embeddings easy to visualize. It makes more clear the similarity relations that the cosine metric measures. See [scikit-learn PCA](https://scikit-learn.org/stable/modules/generated/sklearn.decomposition.PCA.html).\n",
    "\n",
    "It's hard to overstate how important this kind of perspective is in the development of LLMs/self-attention etc!\n",
    "\n",
    "TODO: \n",
    "- Make the following 2d projection interactive (plotly, bokeh, matplotlib) -- hover and show title. \n",
    "- Discuss other embeddings: umap, tsne."
   ]
  },
  {
   "cell_type": "code",
   "execution_count": 16,
   "id": "c6a00512",
   "metadata": {},
   "outputs": [
    {
     "data": {
      "image/png": "[encoded data removed]",
      "text/plain": [
       "<Figure size 800x600 with 1 Axes>"
      ]
     },
     "metadata": {},
     "output_type": "display_data"
    }
   ],
   "source": [
    "pca = PCA(n_components=2)\n",
    "embeddings_2d = pca.fit_transform(embeddings)\n",
    "\n",
    "# Visualize embeddings\n",
    "plt.figure(figsize=(8, 6))\n",
    "for i, summary in enumerate(movie_summaries):\n",
    "    title = movie_titles[i]\n",
    "    plt.scatter(embeddings_2d[i, 0], embeddings_2d[i, 1])\n",
    "    plt.text(embeddings_2d[i, 0] + 0.02, embeddings_2d[i, 1], title, size=8)\n",
    "plt.title(\"2D Visualization of Summary Embeddings\")\n",
    "plt.xlabel(\"PCA Component 1\")\n",
    "plt.ylabel(\"PCA Component 2\")\n",
    "plt.show()"
   ]
  },
  {
   "cell_type": "markdown",
   "id": "8e0a301a",
   "metadata": {},
   "source": [
    "\n"
   ]
  },
  {
   "cell_type": "code",
   "execution_count": null,
   "id": "dc29de16-a01a-454f-ba5f-22b647b22866",
   "metadata": {},
   "outputs": [],
   "source": []
  }
 ],
 "metadata": {
  "kernelspec": {
   "display_name": "Python 3 (ipykernel)",
   "language": "python",
   "name": "python3"
  },
  "language_info": {
   "codemirror_mode": {
    "name": "ipython",
    "version": 3
   },
   "file_extension": ".py",
   "mimetype": "text/x-python",
   "name": "python",
   "nbconvert_exporter": "python",
   "pygments_lexer": "ipython3",
   "version": "3.12.10"
  }
 },
 "nbformat": 4,
 "nbformat_minor": 5
}
