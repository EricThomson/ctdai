{
 "cells": [
  {
   "cell_type": "markdown",
   "id": "6fc4ac58-a9ce-4e7a-90d0-a05e813019d5",
   "metadata": {},
   "source": [
    "# AI agents\n",
    "AI agents are agents whose outputs become their own inputs, and they can interact with software and do things in the (software) world. E.g., they can control the browser, write code and *run* it, create web sites and applications and talk to other agents. They are one of the most powerful uses of AI because they don't just sit there waiting for input from a human. They \n",
    "\n",
    "In this module we will cover the principels of simple AI agents using  (TODO fill in content this is a stub!)\n",
    "\n",
    "Use Noah's great tutorial here perhaps cover smolagent framework in this one and use langchain and LlamaIndex for another example if we want to get more complex:\n",
    "\n",
    "https://huggingface.co/learn/agents-course/unit0/introduction"
   ]
  },
  {
   "cell_type": "code",
   "execution_count": null,
   "id": "68a2be32-70da-4ef7-8ab5-4e38a6108399",
   "metadata": {},
   "outputs": [],
   "source": []
  }
 ],
 "metadata": {
  "kernelspec": {
   "display_name": "Python 3 (ipykernel)",
   "language": "python",
   "name": "python3"
  },
  "language_info": {
   "codemirror_mode": {
    "name": "ipython",
    "version": 3
   },
   "file_extension": ".py",
   "mimetype": "text/x-python",
   "name": "python",
   "nbconvert_exporter": "python",
   "pygments_lexer": "ipython3",
   "version": "3.12.10"
  }
 },
 "nbformat": 4,
 "nbformat_minor": 5
}
